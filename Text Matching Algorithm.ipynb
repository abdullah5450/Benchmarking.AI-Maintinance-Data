{
 "cells": [
  {
   "cell_type": "code",
   "execution_count": 1,
   "id": "e5dbd167",
   "metadata": {},
   "outputs": [],
   "source": [
    "import pandas as pd\n",
    "import numpy as np\n",
    "import nltk\n",
    "from nltk.corpus import stopwords\n",
    "import re\n",
    "from bs4 import BeautifulSoup"
   ]
  },
  {
   "cell_type": "code",
   "execution_count": 2,
   "id": "300c8c02",
   "metadata": {},
   "outputs": [],
   "source": [
    "doc_A = pd.read_excel(\"DocA.xlsx\", header = 0)\n",
    "doc_B = pd.read_excel(\"DocB.xlsx\", header = 0)"
   ]
  },
  {
   "cell_type": "code",
   "execution_count": 3,
   "id": "5478bb2d",
   "metadata": {},
   "outputs": [],
   "source": [
    "REPLACE_BY_SPACE_RE = re.compile('[/(){}\\[\\]\\|@,;]')\n",
    "BAD_SYMBOLS_RE = re.compile('[^0-9a-z #+_]')\n",
    "STOPWORDS = set(stopwords.words('english'))\n",
    "\n",
    "def clean_text(text):\n",
    "    \"\"\"\n",
    "        text: a string\n",
    "        \n",
    "        return: modified initial string\n",
    "    \"\"\"\n",
    "    text = BeautifulSoup(text, \"lxml\").text # HTML decoding\n",
    "    text = text.lower() # lowercase text\n",
    "    text = REPLACE_BY_SPACE_RE.sub(' ', text) # replace REPLACE_BY_SPACE_RE symbols by space in text\n",
    "    text = BAD_SYMBOLS_RE.sub('', text) # delete symbols which are in BAD_SYMBOLS_RE from text\n",
    "    text = ' '.join(word for word in text.split() if word not in STOPWORDS) # delete stopwors from text\n",
    "    return text"
   ]
  },
  {
   "cell_type": "code",
   "execution_count": 4,
   "id": "97995009",
   "metadata": {},
   "outputs": [],
   "source": [
    "doc_A['WORK ORDER Narration'] = doc_A['WORK ORDER Narration'].apply(clean_text)\n",
    "doc_B['WORK ORDER Narration'] = doc_B['WORK ORDER Narration'].apply(clean_text)"
   ]
  },
  {
   "cell_type": "code",
   "execution_count": 5,
   "id": "60e91681",
   "metadata": {},
   "outputs": [],
   "source": [
    "docA_desc = doc_A['WORK ORDER Narration'].tolist()\n",
    "docB_desc = doc_B['WORK ORDER Narration'].tolist()"
   ]
  },
  {
   "cell_type": "code",
   "execution_count": 6,
   "id": "5ce1f22e",
   "metadata": {},
   "outputs": [],
   "source": [
    "def Jaccard_Similarity(doc1, doc2): \n",
    "    \n",
    "    # List the unique words in a document\n",
    "    words_doc1 = set(doc1.lower().split(' ')) \n",
    "    words_doc2 = set(doc2.lower().split(' '))\n",
    "    \n",
    "    # Find the intersection of words list of doc1 & doc2\n",
    "    intersection = words_doc1.intersection(words_doc2)\n",
    "\n",
    "    # Find the union of words list of doc1 & doc2\n",
    "    union = words_doc1.union(words_doc2)\n",
    "        \n",
    "    # Calculate Jaccard similarity score \n",
    "    # using length of intersection set divided by length of union set\n",
    "    return float(len(intersection)) / len(union)"
   ]
  },
  {
   "cell_type": "code",
   "execution_count": 7,
   "id": "0a4c0665",
   "metadata": {},
   "outputs": [],
   "source": [
    "high_match_wo = []\n",
    "high_match_score = []"
   ]
  },
  {
   "cell_type": "code",
   "execution_count": 8,
   "id": "3deeb0c6",
   "metadata": {},
   "outputs": [],
   "source": [
    "docA_WO = doc_A['WORK ORDER'].tolist()"
   ]
  },
  {
   "cell_type": "code",
   "execution_count": 9,
   "id": "b5325f82",
   "metadata": {},
   "outputs": [],
   "source": [
    "for i in docB_desc:\n",
    "    match_scores = []\n",
    "    for j in docA_desc:\n",
    "        sim = Jaccard_Similarity(i,j)\n",
    "        match_scores.append(sim)\n",
    "    maxpos = match_scores.index(max(match_scores))\n",
    "    high_match_wo.append(docA_WO[maxpos])\n",
    "    high_match_score.append(max(match_scores))\n",
    "    "
   ]
  },
  {
   "cell_type": "code",
   "execution_count": 10,
   "id": "278d8057",
   "metadata": {},
   "outputs": [
    {
     "data": {
      "text/plain": [
       "(293, 293)"
      ]
     },
     "execution_count": 10,
     "metadata": {},
     "output_type": "execute_result"
    }
   ],
   "source": [
    "len(high_match_wo), len(docB_desc)"
   ]
  },
  {
   "cell_type": "code",
   "execution_count": 11,
   "id": "f905bb36",
   "metadata": {},
   "outputs": [],
   "source": [
    "output_df = pd.DataFrame({\n",
    "    \"Work Order\":doc_B['WORK ORDER'].tolist(),\n",
    "    \"Matched Work Order\":high_match_wo\n",
    "})"
   ]
  },
  {
   "cell_type": "code",
   "execution_count": 12,
   "id": "e2ea7081",
   "metadata": {},
   "outputs": [],
   "source": [
    "output_df.to_excel(\"Matched Work Orders.xlsx\", index = False)"
   ]
  },
  {
   "cell_type": "code",
   "execution_count": null,
   "id": "05018205",
   "metadata": {},
   "outputs": [],
   "source": []
  }
 ],
 "metadata": {
  "kernelspec": {
   "display_name": "Python 3",
   "language": "python",
   "name": "python3"
  },
  "language_info": {
   "codemirror_mode": {
    "name": "ipython",
    "version": 3
   },
   "file_extension": ".py",
   "mimetype": "text/x-python",
   "name": "python",
   "nbconvert_exporter": "python",
   "pygments_lexer": "ipython3",
   "version": "3.8.8"
  }
 },
 "nbformat": 4,
 "nbformat_minor": 5
}
